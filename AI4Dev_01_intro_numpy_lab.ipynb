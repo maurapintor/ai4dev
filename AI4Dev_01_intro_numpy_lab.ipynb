{
  "nbformat": 4,
  "nbformat_minor": 0,
  "metadata": {
    "colab": {
      "provenance": [],
      "authorship_tag": "ABX9TyPgNv1kdSLc00dCUHvq711g",
      "include_colab_link": true
    },
    "kernelspec": {
      "name": "python3",
      "display_name": "Python 3"
    },
    "language_info": {
      "name": "python"
    }
  },
  "cells": [
    {
      "cell_type": "markdown",
      "metadata": {
        "id": "view-in-github",
        "colab_type": "text"
      },
      "source": [
        "<a href=\"https://colab.research.google.com/github/maurapintor/ai4dev/blob/main/AI4Dev_01_intro_numpy_lab.ipynb\" target=\"_parent\"><img src=\"https://colab.research.google.com/assets/colab-badge.svg\" alt=\"Open In Colab\"/></a>"
      ]
    },
    {
      "cell_type": "markdown",
      "source": [
        "# Introduction to libraries and basic operations"
      ],
      "metadata": {
        "id": "Q951vWGqXfmJ"
      }
    },
    {
      "cell_type": "markdown",
      "source": [
        "## Basic Operations with arrays\n",
        "\n",
        "In Python, we can use the `numpy` library to represent data in a structured way. It's also better than using generic python lists, as:\n",
        "* arrays are more easy to index\n",
        "* APIs are better and targeted to numerical applications (including ML!)\n",
        "* computational efficiency - interfaces are in python, but the operations are run with efficient C++ backend\n",
        "\n",
        "And these are just a few aspects. There are way more that we will not cover here.\n",
        "\n",
        "We first introduce the array creation operations to either wrap existing data structures into numpy arrays, or to generate arrays with known properties (e.g., a matrix of zeros)."
      ],
      "metadata": {
        "id": "kayisHC2OMYY"
      }
    },
    {
      "cell_type": "code",
      "execution_count": null,
      "metadata": {
        "id": "OYqJ723jMVrV"
      },
      "outputs": [],
      "source": [
        "import numpy as np\n",
        "\n",
        "a = np.array([[1, 2, 3], [4, 5, 6]])\n",
        "print(a.shape)  # prints the dimensions of the array\n",
        "print(a.dtype)  # prints the data type of the elements\n",
        "\n",
        "a.dtype = np.float64  # casting operation\n",
        "print(a.dtype)\n",
        "\n",
        "n_rows, n_cols = 2, 4\n",
        "# creates a matrix of zero-valued elements with the given shape\n",
        "a = np.zeros(shape=(n_rows, n_cols))\n",
        "\n",
        "print(a)"
      ]
    },
    {
      "cell_type": "markdown",
      "source": [
        "## More methods to create arrays\n",
        "\n",
        "Here we see other APIs for creation of arrays.\n",
        "These are useful to sample distributions with known properties or also to create useful structures to transform the arrays (e.g., masking operations, indexing)."
      ],
      "metadata": {
        "id": "V7SRpkIBOQfy"
      }
    },
    {
      "cell_type": "code",
      "source": [
        "a = np.ones(shape=(n_rows, n_cols))  # creates matrix of ones\n",
        "print(a)\n",
        "\n",
        "a = np.eye(n_rows, n_cols)  # creates identity matrix\n",
        "print(a)\n",
        "\n",
        "# random numbers from Normal distribution\n",
        "# with zero mean and unit variance\n",
        "a = np.random.randn(n_rows, n_cols)\n",
        "print(a)\n",
        "\n",
        "# random numbers from Uniform distribution in [0,1]\n",
        "a = np.random.rand(n_rows, n_cols)\n",
        "print(a)\n",
        "\n",
        "a = np.random.randint(0, 5, [n_rows, n_cols])  # random integers\n",
        "print(a)\n"
      ],
      "metadata": {
        "id": "hcO4OMsAMyDq"
      },
      "execution_count": null,
      "outputs": []
    },
    {
      "cell_type": "markdown",
      "source": [
        "## Array Indexing\n",
        "\n",
        "Sometimes we are interested in extracting certain elements from the arrays. We use indexing operations for this.\n",
        "\n",
        "With python lists, we can index individual elements or also ranges of elements. We can also do it with numpy arrays, but we can also bring it to the next level.\n",
        "\n",
        "Specifically, to index elements in multi-dimensional arrays, we can now use a more compact and intuitive notation.\n",
        "\n",
        "To extract one element, it is sufficient to list the indices conecutively. For example, in a 2D array, we can use the compact notation:\n",
        "\n",
        "```python\n",
        "a[0, 1]\n",
        "```\n",
        "\n",
        "More in general, we can select subsets of the elements by using the notation\n",
        "\n",
        "```\n",
        "<start>:<stop>:<step>\n",
        "```\n",
        "\n",
        "Where any, if omitted, defaults to:\n",
        "* start $\\rightarrow$ the beginning of the array (first index)\n",
        "* stop $\\rightarrow$ the end of the arrya (the last index)\n",
        "* step $\\rightarrow$ one, i.e., take all elements without skipping any\n",
        "\n",
        "Then, we can extract submatrices from the arrays by specifying the indices for the slices. For example, if we start from a 2D array, we can extract submatrices by using:\n",
        "\n",
        "```python\n",
        "a[0:2, 0:2]  # extracts submatrix of rows 0 to 2 and columns 0 to 2\n",
        "```\n",
        "\n",
        "where each index is used for a dimension of the array (thus this instruction will return the element in the row 0, column 1).\n",
        "\n",
        "We can also select entire rows or columns (or more in general dimensions) with the colon operator (`:`), that omits all three parameters.\n",
        "\n",
        "For example, in the previous array, we can select the row 0 by using the colon operator in the first dimension:\n",
        "\n",
        "```python\n",
        "a[0, :]\n",
        "```\n",
        "\n",
        "and column 0 by using the colon operation in the first dimension:\n",
        "\n",
        "```python\n",
        "a[:, 0]\n",
        "```\n"
      ],
      "metadata": {
        "id": "z4EGI4KPOKlm"
      }
    },
    {
      "cell_type": "code",
      "source": [
        "a = np.eye(3)\n",
        "print(a)\n",
        "\n",
        "element = ...  # picks the first element (returns float)\n",
        "print(element)\n",
        "\n",
        "submatrix = ...  #selects submatrix with slicing operators\n",
        "print(submatrix)\n",
        "\n",
        "row = ...  # picks the first row (returns flat array)\n",
        "print(row)\n",
        "\n",
        "column = ...  # picks the second column (returns flat array)\n",
        "print(column)"
      ],
      "metadata": {
        "id": "l6frRVC5OEkG"
      },
      "execution_count": null,
      "outputs": []
    },
    {
      "cell_type": "markdown",
      "source": [
        "We can also index arrays with other arrays of boolean type.\n",
        "Boolean arrays can be the result of a boolean comparison in numpy."
      ],
      "metadata": {
        "id": "sYYmS8Z7dzcX"
      }
    },
    {
      "cell_type": "code",
      "source": [
        "a = np.eye(3)\n",
        "b = ...\n",
        "indexed_a = ...\n",
        "print(indexed_a)\n",
        "\n",
        "# boolean_operator\n",
        "indexed_a = ...\n",
        "print(indexed_a)\n"
      ],
      "metadata": {
        "id": "7GSDs4F9bXEy"
      },
      "execution_count": null,
      "outputs": []
    },
    {
      "cell_type": "markdown",
      "source": [
        "The complete reference for knowing about indexing arrays can be found in the docs:\n",
        "- https://numpy.org/doc/stable/reference/arrays.indexing.html"
      ],
      "metadata": {
        "id": "1ncnA_tYbWam"
      }
    },
    {
      "cell_type": "markdown",
      "source": [
        "## Other operations on arrays\n",
        "\n",
        "There are other operations that can be used to transform arrays.\n",
        "\n",
        "For example, we can transpose arrays, stack them vertically or horizontally, and perform standard operations (e.g., sums, multiplications, etc)."
      ],
      "metadata": {
        "id": "8uTn8w7jOokw"
      }
    },
    {
      "cell_type": "code",
      "source": [
        "a = np.array([1, 2, 3])\n",
        "b = np.array([4, 5, 6])\n",
        "c = np.array([[1, 2, 3], [4, 5, 6]])\n",
        "\n",
        "transpose = ...  # swaps rows and columns\n",
        "print(transpose)\n",
        "\n",
        "vertical_stack = ...  # stack rows (vertical stacking)\n",
        "print(vertical_stack)\n",
        "\n",
        "horizontal_stack = ... # stack columns (horizontal stacking)\n",
        "print(horizontal_stack)\n",
        "\n",
        "# element-wise operations\n",
        "array_sum = ...\n",
        "print(array_sum)\n",
        "\n",
        "array_product = ...\n",
        "print(array_product)\n",
        "\n",
        "scalar_product = ...  # scalar product\n",
        "print(scalar_product)\n",
        "\n",
        "# inner dimensions must match for matrix operations\n",
        "# 1x3 and 3x2 --> result is 1x2\n",
        "scalar_product_with_matrix = ...\n",
        "print(scalar_product_with_matrix)"
      ],
      "metadata": {
        "id": "QGd0F4suOp-2"
      },
      "execution_count": null,
      "outputs": []
    },
    {
      "cell_type": "markdown",
      "source": [
        "## Exercise\n",
        "\n",
        "Define a function `extract_subset(x, y, y0)` that takes as input:\n",
        "\n",
        "- a 2D matrix `x`, and an array `y`\n",
        "-  a target `y0` (e.g., `y0=0`)\n",
        "\n",
        "and returns the matrix containing only rows where y is equal to the value of y0"
      ],
      "metadata": {
        "id": "3hFYZ8ixOy_c"
      }
    },
    {
      "cell_type": "code",
      "source": [
        "x = np.array([\n",
        "        [ 0.33990211,  0.94182274,  0.66611658,  0.72773846],\n",
        "        [ 0.20281557,  0.24280422,  0.3627702,   0.80495032],\n",
        "        [ 0.5016927,   0.29465024,  0.61690932,  0.25302243],\n",
        "        [ 0.01744464,  0.82521145,  0.82226041,  0.89858553],\n",
        "        [ 0.33772606,  0.17433791,  0.7705529,   0.11211808]\n",
        "    ])\n",
        "\n",
        "y = np.array([0, 0, 1, 1, 1])  # one value for each row of x\n",
        "\n",
        "def extract_subset(x, y, y0):\n",
        "    return ...\n",
        "\n",
        "result = extract_subset(x, y, y0=0)\n",
        "print(result)\n"
      ],
      "metadata": {
        "id": "91ZhTMn_O16y"
      },
      "execution_count": null,
      "outputs": []
    },
    {
      "cell_type": "markdown",
      "source": [
        "## Handling data with Pandas\n",
        "\n",
        "Pandas provides two types of classes for handling data:\n",
        "\n",
        "* **Series**: a one-dimensional labeled array holding data of any type such as integers, strings, Python objects etc.\n",
        "* **DataFrame**: a two-dimensional data structure that holds data like a two-dimension array or a table with rows and columns.\n",
        "\n",
        "Creating a Series by passing a list of values makes pandas create a default RangeIndex to index the series. This is an array of indexes from 0 to the length of the series.\n"
      ],
      "metadata": {
        "id": "OBXBvxnxjPha"
      }
    },
    {
      "cell_type": "code",
      "source": [
        "import pandas as pd\n",
        "\n",
        "s = pd.Series([1, 3, 5, np.nan, 6, 8])\n",
        "print(s)"
      ],
      "metadata": {
        "id": "Wiz1WFNvjRJ3"
      },
      "execution_count": null,
      "outputs": []
    },
    {
      "cell_type": "markdown",
      "source": [
        "Otherwise, we can create a DataFrame by passing a NumPy array. Optionally, we can specify explicitly the index to use. For example, we can create a datetime index using `date_range()`. Additionally, we can create named columns by passing the labels during creation:"
      ],
      "metadata": {
        "id": "vMbhSt1Xj6YY"
      }
    },
    {
      "cell_type": "code",
      "source": [
        "dates = ...\n",
        "data = ...\n",
        "df = ...\n",
        "\n",
        "print(df.head())  # prints only the first values\n",
        "\n",
        "print(df.tail(3))  # prints only the last (three) values"
      ],
      "metadata": {
        "id": "Wv2d9AHVj8I4"
      },
      "execution_count": null,
      "outputs": []
    },
    {
      "cell_type": "markdown",
      "source": [
        "Then, we can retrieve the index and the columns:"
      ],
      "metadata": {
        "id": "ksqEVjmbkykh"
      }
    },
    {
      "cell_type": "code",
      "source": [
        "print(df.index)\n",
        "print(df.columns)"
      ],
      "metadata": {
        "id": "TKf39LQ1lUP_"
      },
      "execution_count": null,
      "outputs": []
    },
    {
      "cell_type": "markdown",
      "source": [
        "To select elements from the dataframe, we can use the getitem operator (`[]`) like we do with numpy, but we can now also index columns."
      ],
      "metadata": {
        "id": "NNT5pk4fnd1u"
      }
    },
    {
      "cell_type": "code",
      "source": [
        "column_a = ...  # extract the Series \"a\" from the df\n",
        "print(column_a)\n",
        "\n",
        "some_rows = ...  # extracts a sub-frame by the row index\n",
        "print(some_rows)\n",
        "\n",
        "sliced_by_index = ...  # extracts a sub-frame by the index values\n",
        "print(sliced_by_index)"
      ],
      "metadata": {
        "id": "uTJH8YlknePL"
      },
      "execution_count": null,
      "outputs": []
    },
    {
      "cell_type": "markdown",
      "source": [
        "We can also represent the selection more explicitly by using the specific operators to access the elements by matching them from the label (`df.loc`) or by position (`df.iloc`)."
      ],
      "metadata": {
        "id": "YGqvr8ato1wg"
      }
    },
    {
      "cell_type": "code",
      "source": [
        "by_label = ...\n",
        "print(by_label)\n",
        "\n",
        "by_position = ...\n",
        "print(by_position)"
      ],
      "metadata": {
        "id": "h4LNVTXpps6_"
      },
      "execution_count": null,
      "outputs": []
    },
    {
      "cell_type": "markdown",
      "source": [
        "Finally, we can slice through boolean arrays/series (like we did with numpy)."
      ],
      "metadata": {
        "id": "Bk_MuB8QqOR3"
      }
    },
    {
      "cell_type": "code",
      "source": [
        "boolean_indexed = ...\n",
        "print(boolean_indexed)"
      ],
      "metadata": {
        "id": "uYvu1ZyCqOmq"
      },
      "execution_count": null,
      "outputs": []
    },
    {
      "cell_type": "markdown",
      "source": [
        "For the rest, the operations performed with numpy are in general applicable to the dataframes. There are more specific operations that we will not cover in this course, but you can find good examples in the documentation of the library.\n",
        "\n",
        "Reference for Pandas tutorial:\n",
        "* https://pandas.pydata.org/docs/user_guide/10min.html"
      ],
      "metadata": {
        "id": "8XC9BpV8j5rF"
      }
    }
  ]
}